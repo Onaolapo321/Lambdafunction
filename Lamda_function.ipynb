{
  "nbformat": 4,
  "nbformat_minor": 0,
  "metadata": {
    "colab": {
      "provenance": [],
      "authorship_tag": "ABX9TyMkaTbQ9NQZ1rq+S1+D0i40",
      "include_colab_link": true
    },
    "kernelspec": {
      "name": "python3",
      "display_name": "Python 3"
    },
    "language_info": {
      "name": "python"
    }
  },
  "cells": [
    {
      "cell_type": "markdown",
      "metadata": {
        "id": "view-in-github",
        "colab_type": "text"
      },
      "source": [
        "<a href=\"https://colab.research.google.com/github/Onaolapo321/Lamdafunction/blob/main/Lamda_function.ipynb\" target=\"_parent\"><img src=\"https://colab.research.google.com/assets/colab-badge.svg\" alt=\"Open In Colab\"/></a>"
      ]
    },
    {
      "cell_type": "markdown",
      "source": [
        "THIS IS LAMDA FUNCTION 10/6/2025"
      ],
      "metadata": {
        "id": "J9Ls7KrbbRSX"
      }
    },
    {
      "cell_type": "code",
      "source": [],
      "metadata": {
        "id": "hYx1lLx9bYm5"
      },
      "execution_count": null,
      "outputs": []
    }
  ]
}